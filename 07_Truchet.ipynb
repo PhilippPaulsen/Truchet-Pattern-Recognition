{
 "cells": [
  {
   "cell_type": "markdown",
   "id": "e782e55d",
   "metadata": {},
   "source": [
    "# Truchet Symmetries Generator"
   ]
  },
  {
   "cell_type": "markdown",
   "id": "750e9461",
   "metadata": {
    "heading_collapsed": true
   },
   "source": [
    "## Coding Symmetries"
   ]
  },
  {
   "cell_type": "code",
   "execution_count": 8,
   "id": "936ef154",
   "metadata": {
    "hidden": true
   },
   "outputs": [],
   "source": [
    "%gui osx"
   ]
  },
  {
   "cell_type": "code",
   "execution_count": 9,
   "id": "17f5370d",
   "metadata": {
    "hidden": true
   },
   "outputs": [],
   "source": [
    "import random\n",
    "import py5\n",
    "import os\n",
    "import time \n",
    "from IPython.display import Image, display\n",
    "\n",
    "cols, rows = 0, 0\n",
    "size = 100\n",
    "tiles = []\n",
    "symmetry_type = \"C4\"\n",
    "num_patterns = 1\n",
    "base_seed = 0\n",
    "pattern_index = 0\n",
    "seeds = []\n",
    "generated_patterns = set()\n",
    "\n",
    "def setup():\n",
    "    global cols, rows\n",
    "    py5.size(400, 400)\n",
    "    cols = py5.width // size\n",
    "    rows = py5.height // size\n",
    "    py5.no_loop()\n",
    "    os.makedirs(\"patterns\", exist_ok=True)\n",
    "    generate_and_save_patterns(num_patterns, base_seed)\n",
    "\n",
    "def draw():\n",
    "    global pattern_index\n",
    "    if pattern_index < num_patterns:\n",
    "        py5.background(225)\n",
    "        for row in tiles:\n",
    "            for tile in row:\n",
    "                tile.display()\n",
    "        py5.save_frame(f\"patterns/pattern_{symmetry_type}_{size}_{pattern_index}.jpg\")\n",
    "        pattern_index += 1\n",
    "        generate_new_pattern(pattern_index)\n",
    "    else:\n",
    "        py5.no_loop()\n",
    "\n",
    "class Tile:\n",
    "    def __init__(self, x, y, type):\n",
    "        self.x = x\n",
    "        self.y = y\n",
    "        self.type = type\n",
    "\n",
    "    def display(self):\n",
    "        py5.fill(0)\n",
    "        py5.push_matrix()\n",
    "        py5.translate(self.x, self.y)\n",
    "        py5.begin_shape()\n",
    "        if self.type == 0:\n",
    "            py5.vertex(size, 0)\n",
    "            py5.vertex(size, size)\n",
    "            py5.vertex(0, size)\n",
    "        elif self.type == 1:\n",
    "            py5.vertex(size, 0)\n",
    "            py5.vertex(0, 0)\n",
    "            py5.vertex(0, size)\n",
    "        elif self.type == 2:\n",
    "            py5.vertex(size, size)\n",
    "            py5.vertex(0, 0)\n",
    "            py5.vertex(0, size)\n",
    "        elif self.type == 3:\n",
    "            py5.vertex(size, size)\n",
    "            py5.vertex(0, 0)\n",
    "            py5.vertex(size, 0)\n",
    "        py5.end_shape()\n",
    "        py5.pop_matrix()\n",
    "\n",
    "def create_symmetric_pattern(symmetry_type):\n",
    "    pattern = []\n",
    "\n",
    "    if symmetry_type == \"D4\":\n",
    "        for y in range(rows // 2):\n",
    "            row = []\n",
    "            for x in range(cols // 2):\n",
    "                if x < y:\n",
    "                    type = int(random.random() * 2)\n",
    "                elif x == y:\n",
    "                    type = int(random.random() * 2)\n",
    "                else:\n",
    "                    type = int(random.random() * 4)\n",
    "                row.append(Tile(x * size, y * size, type))\n",
    "            pattern.append(row)\n",
    "\n",
    "        for y in range(rows // 2):\n",
    "            for x in range(cols // 2):\n",
    "                if x > y:\n",
    "                    type = pattern[y][x].type\n",
    "                    pattern[x][y] = Tile(y * size, x * size, mirror_type_diagonally(type))\n",
    "\n",
    "        for y in range(rows // 2):\n",
    "            for x in range(cols // 2):\n",
    "                type = pattern[y][x].type\n",
    "                pattern[y].append(Tile((cols - x - 1) * size, y * size, mirror_type_horizontally(type)))\n",
    "\n",
    "        for y in range(rows // 2):\n",
    "            bottom_row = []\n",
    "            for x in range(cols // 2):\n",
    "                type = pattern[y][x].type\n",
    "                bottom_row.append(Tile(x * size, (rows - y - 1) * size, mirror_type_vertically(type)))\n",
    "            pattern.append(bottom_row)\n",
    "\n",
    "        for y in range(rows // 2):\n",
    "            for x in range(cols // 2):\n",
    "                type = pattern[y][cols // 2 + x].type\n",
    "                pattern[rows // 2 + y].append(Tile((cols - x - 1) * size, (rows - y - 1) * size, mirror_type_vertically(type)))\n",
    "\n",
    "    elif symmetry_type == \"C4\":\n",
    "        for y in range(rows // 2):\n",
    "            row = []\n",
    "            for x in range(cols // 2):\n",
    "                type = int(random.random() * 4)\n",
    "                row.append(Tile(x * size, y * size, type))\n",
    "            pattern.append(row)\n",
    "\n",
    "        for y in range(rows // 2):\n",
    "            pattern[y] += [None] * (cols // 2)\n",
    "\n",
    "        for y in range(rows // 2, rows):\n",
    "            pattern.append([None] * cols)\n",
    "\n",
    "        for y in range(rows // 2):\n",
    "            for x in range(cols // 2):\n",
    "                type = pattern[y][x].type\n",
    "                new_type = rotate_type_clockwise(type)\n",
    "                pattern[x][cols - y - 1] = Tile((cols - y - 1) * size, x * size, new_type)\n",
    "\n",
    "        for y in range(rows // 2):\n",
    "            for x in range(cols // 2):\n",
    "                type = pattern[x][cols - y - 1].type\n",
    "                new_type = rotate_type_clockwise(type)\n",
    "                pattern[rows - y - 1][cols - x - 1] = Tile((cols - x - 1) * size, (rows - y - 1) * size, new_type)\n",
    "\n",
    "        for y in range(rows // 2):\n",
    "            for x in range(cols // 2):\n",
    "                type = pattern[rows - y - 1][cols - x - 1].type\n",
    "                new_type = rotate_type_clockwise(type)\n",
    "                pattern[rows - x - 1][y] = Tile(y * size, (rows - x - 1) * size, new_type)\n",
    "\n",
    "    elif symmetry_type == \"D2_1\":\n",
    "        for y in range(rows // 2):\n",
    "            row = []\n",
    "            for x in range(cols // 2):\n",
    "                type = int(random.random() * 4)\n",
    "                row.append(Tile(x * size, y * size, type))\n",
    "            pattern.append(row)\n",
    "\n",
    "        for y in range(rows // 2):\n",
    "            for x in range(cols // 2):\n",
    "                type = pattern[y][x].type\n",
    "                pattern[y].append(Tile((cols - x - 1) * size, y * size, mirror_type_horizontally(type)))\n",
    "\n",
    "        for y in range(rows // 2):\n",
    "            bottom_row = []\n",
    "            for x in range(cols // 2):\n",
    "                type = pattern[y][x].type\n",
    "                bottom_row.append(Tile(x * size, (rows - y - 1) * size, mirror_type_vertically(type)))\n",
    "            pattern.append(bottom_row)\n",
    "\n",
    "        for y in range(rows // 2):\n",
    "            for x in range(cols // 2):\n",
    "                type = pattern[y][cols // 2 + x].type\n",
    "                pattern[rows // 2 + y].append(Tile((cols - x - 1) * size, (rows - y - 1) * size, mirror_type_vertically(type)))\n",
    "\n",
    "    return pattern\n",
    "\n",
    "def pattern_hash(pattern):\n",
    "    \"\"\"Generate a hashable representation of the pattern\"\"\"\n",
    "    return tuple(tuple(tile.type for tile in row) for row in pattern)\n",
    "\n",
    "def mirror_type_horizontally(type):\n",
    "    return [2, 3, 0, 1][type]\n",
    "\n",
    "def mirror_type_vertically(type):\n",
    "    return [3, 2, 1, 0][type]\n",
    "\n",
    "def mirror_type_diagonally(type):\n",
    "    return [0, 1, 3, 2][type]\n",
    "\n",
    "def rotate_type_clockwise(type):\n",
    "    return [2, 3, 1, 0][type]\n",
    "\n",
    "def generate_and_save_patterns(num_patterns, base_seed):\n",
    "    global seeds\n",
    "    seeds = [base_seed + i for i in range(num_patterns)]\n",
    "    index = 0\n",
    "    for seed in seeds:\n",
    "        if index >= num_patterns:\n",
    "            break\n",
    "        if generate_and_save_pattern(seed, index):\n",
    "            index += 1\n",
    "    print(f\"Generated {index} unique patterns out of {num_patterns} requested.\")\n",
    "\n",
    "def generate_and_save_pattern(seed, index):\n",
    "    random.seed(seed)\n",
    "    global tiles\n",
    "    attempt = 0\n",
    "    max_attempts = 10000  # Adjust as necessary to ensure sufficient attempts\n",
    "    while attempt < max_attempts:\n",
    "        tiles = create_symmetric_pattern(symmetry_type)\n",
    "        hashed_pattern = pattern_hash(tiles)\n",
    "        if hashed_pattern not in generated_patterns:\n",
    "            generated_patterns.add(hashed_pattern)\n",
    "            py5.redraw()\n",
    "            py5.save_frame(f\"patterns/pattern_{symmetry_type}_{size}_{index}.jpg\")\n",
    "            return True\n",
    "        attempt += 1\n",
    "    return False  # Indicates that no unique pattern was found after max_attempts\n",
    "\n",
    "def generate_new_pattern(index):\n",
    "    if index < num_patterns:\n",
    "        random.seed(base_seed + index)\n",
    "        global tiles\n",
    "        attempt = 0\n",
    "        max_attempts = 200  # Adjust as necessary to ensure sufficient attempts\n",
    "        while attempt < max_attempts:\n",
    "            tiles = create_symmetric_pattern(symmetry_type)\n",
    "            hashed_pattern = pattern_hash(tiles)\n",
    "            if hashed_pattern not in generated_patterns:\n",
    "                generated_patterns.add(hashed_pattern)\n",
    "                py5.redraw()\n",
    "                return\n",
    "            attempt += 1\n",
    "        print(f\"Failed to generate a unique pattern after {max_attempts} attempts.\")\n"
   ]
  },
  {
   "cell_type": "markdown",
   "id": "64909f8d",
   "metadata": {},
   "source": [
    "## Saving Symmetries"
   ]
  },
  {
   "cell_type": "markdown",
   "id": "11b9cf6c",
   "metadata": {
    "heading_collapsed": true
   },
   "source": [
    "### D4"
   ]
  },
  {
   "cell_type": "markdown",
   "id": "286cb39f",
   "metadata": {
    "hidden": true
   },
   "source": [
    "**2 x 2 Shapes**\n",
    "\n",
    "There are 2 unique patterns."
   ]
  },
  {
   "cell_type": "code",
   "execution_count": 3,
   "id": "e9ed830a",
   "metadata": {
    "hidden": true
   },
   "outputs": [],
   "source": [
    "size = 200\n",
    "symmetry_type = \"D4\"\n",
    "num_patterns = 2\n",
    "base_seed = 0\n",
    "pattern_index = 0\n",
    "\n",
    "def setup():\n",
    "    global cols, rows, tiles\n",
    "    py5.size(400, 400)\n",
    "    cols = py5.width // size\n",
    "    rows = py5.height // size\n",
    "    tiles = create_symmetric_pattern(symmetry_type)\n",
    "\n",
    "py5.run_sketch()"
   ]
  },
  {
   "cell_type": "code",
   "execution_count": 6,
   "id": "c5e21656",
   "metadata": {
    "hidden": true
   },
   "outputs": [
    {
     "data": {
      "image/png": "[encoded data removed]",
      "text/plain": [
       "<IPython.core.display.Image object>"
      ]
     },
     "metadata": {},
     "output_type": "display_data"
    }
   ],
   "source": [
    "filename = f\"{symmetry_type}_{size}.png\"\n",
    "py5.save_frame(filename)\n",
    "display(Image(filename=filename))"
   ]
  },
  {
   "cell_type": "markdown",
   "id": "2b1e5809",
   "metadata": {
    "hidden": true
   },
   "source": [
    "**4 x 4 Shapes**\n",
    "\n",
    "There are 16 unique patterns."
   ]
  },
  {
   "cell_type": "code",
   "execution_count": 7,
   "id": "f77c2af7",
   "metadata": {
    "hidden": true
   },
   "outputs": [],
   "source": [
    "size = 100\n",
    "symmetry_type = \"D4\"\n",
    "num_patterns = 16\n",
    "base_seed = 0\n",
    "pattern_index = 0\n",
    "\n",
    "def setup():\n",
    "    global cols, rows, tiles\n",
    "    py5.size(400, 400)\n",
    "    cols = py5.width // size\n",
    "    rows = py5.height // size\n",
    "    tiles = create_symmetric_pattern(symmetry_type)\n",
    "\n",
    "py5.run_sketch()"
   ]
  },
  {
   "cell_type": "code",
   "execution_count": 8,
   "id": "15c223de",
   "metadata": {
    "hidden": true
   },
   "outputs": [
    {
     "data": {
      "image/png": "[encoded data removed]",
      "text/plain": [
       "<IPython.core.display.Image object>"
      ]
     },
     "metadata": {},
     "output_type": "display_data"
    }
   ],
   "source": [
    "filename = f\"{symmetry_type}_{size}.png\"\n",
    "py5.save_frame(filename)\n",
    "display(Image(filename=filename))"
   ]
  },
  {
   "cell_type": "markdown",
   "id": "9a54f3b5",
   "metadata": {
    "hidden": true
   },
   "source": [
    "**8 x 8 Shapes**"
   ]
  },
  {
   "cell_type": "code",
   "execution_count": 12,
   "id": "e3b68de5",
   "metadata": {
    "hidden": true
   },
   "outputs": [],
   "source": [
    "size = 50\n",
    "symmetry_type = \"D4\"\n",
    "num_patterns = 50\n",
    "base_seed = 0\n",
    "pattern_index = 0\n",
    "\n",
    "def setup():\n",
    "    global cols, rows, tiles\n",
    "    py5.size(400, 400)\n",
    "    cols = py5.width // size\n",
    "    rows = py5.height // size\n",
    "    tiles = create_symmetric_pattern(symmetry_type)\n",
    "\n",
    "py5.run_sketch()"
   ]
  },
  {
   "cell_type": "code",
   "execution_count": 11,
   "id": "4d15b36c",
   "metadata": {
    "hidden": true
   },
   "outputs": [
    {
     "data": {
      "image/png": "[encoded data removed]",
      "text/plain": [
       "<IPython.core.display.Image object>"
      ]
     },
     "metadata": {},
     "output_type": "display_data"
    }
   ],
   "source": [
    "filename = f\"{symmetry_type}_{size}.png\"\n",
    "py5.save_frame(filename)\n",
    "display(Image(filename=filename))"
   ]
  },
  {
   "cell_type": "markdown",
   "id": "90e2042d",
   "metadata": {
    "hidden": true
   },
   "source": [
    "**16 x 16 Shapes**"
   ]
  },
  {
   "cell_type": "code",
   "execution_count": 13,
   "id": "5cfabdf5",
   "metadata": {
    "hidden": true
   },
   "outputs": [],
   "source": [
    "size = 25\n",
    "symmetry_type = \"D4\"\n",
    "num_patterns = 50\n",
    "base_seed = 0\n",
    "pattern_index = 0\n",
    "\n",
    "def setup():\n",
    "    global cols, rows, tiles\n",
    "    py5.size(400, 400)\n",
    "    cols = py5.width // size\n",
    "    rows = py5.height // size\n",
    "    tiles = create_symmetric_pattern(symmetry_type)\n",
    "\n",
    "py5.run_sketch()"
   ]
  },
  {
   "cell_type": "code",
   "execution_count": 14,
   "id": "369567f2",
   "metadata": {
    "hidden": true
   },
   "outputs": [
    {
     "data": {
      "image/png": "[encoded data removed]",
      "text/plain": [
       "<IPython.core.display.Image object>"
      ]
     },
     "metadata": {},
     "output_type": "display_data"
    }
   ],
   "source": [
    "filename = f\"{symmetry_type}_{size}.png\"\n",
    "py5.save_frame(filename)\n",
    "display(Image(filename=filename))"
   ]
  },
  {
   "cell_type": "markdown",
   "id": "a2754e8c",
   "metadata": {
    "heading_collapsed": true
   },
   "source": [
    "### C4"
   ]
  },
  {
   "cell_type": "markdown",
   "id": "4fd17c95",
   "metadata": {
    "hidden": true
   },
   "source": [
    "**2 x 2 Shapes**\n",
    "\n",
    "There is 1 unique pattern."
   ]
  },
  {
   "cell_type": "code",
   "execution_count": 19,
   "id": "b96216ff",
   "metadata": {
    "hidden": true
   },
   "outputs": [],
   "source": [
    "size = 200\n",
    "symmetry_type = \"C4\"\n",
    "num_patterns = 1\n",
    "base_seed = 0\n",
    "pattern_index = 0\n",
    "\n",
    "def setup():\n",
    "    global cols, rows, tiles\n",
    "    py5.size(400, 400)\n",
    "    cols = py5.width // size\n",
    "    rows = py5.height // size\n",
    "    tiles = create_symmetric_pattern(symmetry_type)\n",
    "\n",
    "py5.run_sketch()"
   ]
  },
  {
   "cell_type": "code",
   "execution_count": 20,
   "id": "57f6cbc8",
   "metadata": {
    "hidden": true
   },
   "outputs": [
    {
     "data": {
      "image/png": "[encoded data removed]",
      "text/plain": [
       "<IPython.core.display.Image object>"
      ]
     },
     "metadata": {},
     "output_type": "display_data"
    }
   ],
   "source": [
    "filename = f\"{symmetry_type}_{size}.png\"\n",
    "py5.save_frame(filename)\n",
    "display(Image(filename=filename))"
   ]
  },
  {
   "cell_type": "markdown",
   "id": "5e176b96",
   "metadata": {
    "hidden": true
   },
   "source": [
    "**4 x 4 Shapes**\n",
    "\n",
    "There are 120 unique patterns."
   ]
  },
  {
   "cell_type": "code",
   "execution_count": 21,
   "id": "280d5a71",
   "metadata": {
    "hidden": true
   },
   "outputs": [],
   "source": [
    "size = 100\n",
    "symmetry_type = \"C4\"\n",
    "num_patterns = 50\n",
    "base_seed = 0\n",
    "pattern_index = 0\n",
    "\n",
    "def setup():\n",
    "    global cols, rows, tiles\n",
    "    py5.size(400, 400)\n",
    "    cols = py5.width // size\n",
    "    rows = py5.height // size\n",
    "    tiles = create_symmetric_pattern(symmetry_type)\n",
    "\n",
    "py5.run_sketch()"
   ]
  },
  {
   "cell_type": "code",
   "execution_count": 22,
   "id": "304b7329",
   "metadata": {
    "hidden": true
   },
   "outputs": [
    {
     "data": {
      "image/png": "[encoded data removed]",
      "text/plain": [
       "<IPython.core.display.Image object>"
      ]
     },
     "metadata": {},
     "output_type": "display_data"
    }
   ],
   "source": [
    "filename = f\"{symmetry_type}_{size}.png\"\n",
    "py5.save_frame(filename)\n",
    "display(Image(filename=filename))"
   ]
  },
  {
   "cell_type": "markdown",
   "id": "e9af2579",
   "metadata": {
    "hidden": true
   },
   "source": [
    "**8 x 8 Shapes**"
   ]
  },
  {
   "cell_type": "code",
   "execution_count": 12,
   "id": "a1ef8215",
   "metadata": {
    "hidden": true
   },
   "outputs": [],
   "source": [
    "size = 50\n",
    "symmetry_type = \"C4\"\n",
    "num_patterns = 50\n",
    "base_seed = 0\n",
    "pattern_index = 0\n",
    "\n",
    "def setup():\n",
    "    global cols, rows, tiles\n",
    "    py5.size(400, 400)\n",
    "    cols = py5.width // size\n",
    "    rows = py5.height // size\n",
    "    tiles = create_symmetric_pattern(symmetry_type)\n",
    "\n",
    "py5.run_sketch()"
   ]
  },
  {
   "cell_type": "code",
   "execution_count": 24,
   "id": "b3ae4a4a",
   "metadata": {
    "hidden": true
   },
   "outputs": [
    {
     "data": {
      "image/png": "[encoded data removed]",
      "text/plain": [
       "<IPython.core.display.Image object>"
      ]
     },
     "metadata": {},
     "output_type": "display_data"
    }
   ],
   "source": [
    "filename = f\"{symmetry_type}_{size}.png\"\n",
    "py5.save_frame(filename)\n",
    "display(Image(filename=filename))"
   ]
  },
  {
   "cell_type": "markdown",
   "id": "aaba0bee",
   "metadata": {
    "hidden": true
   },
   "source": [
    "**16 x 16 Shapes**"
   ]
  },
  {
   "cell_type": "code",
   "execution_count": 3,
   "id": "1c89698a",
   "metadata": {
    "hidden": true
   },
   "outputs": [],
   "source": [
    "size = 25\n",
    "symmetry_type = \"C4\"\n",
    "num_patterns = 50\n",
    "base_seed = 0\n",
    "pattern_index = 0\n",
    "\n",
    "def setup():\n",
    "    global cols, rows, tiles\n",
    "    py5.size(400, 400)\n",
    "    cols = py5.width // size\n",
    "    rows = py5.height // size\n",
    "    tiles = create_symmetric_pattern(symmetry_type)\n",
    "\n",
    "py5.run_sketch()"
   ]
  },
  {
   "cell_type": "code",
   "execution_count": 4,
   "id": "636f53df",
   "metadata": {
    "hidden": true
   },
   "outputs": [
    {
     "data": {
      "image/png": "[encoded data removed]",
      "text/plain": [
       "<IPython.core.display.Image object>"
      ]
     },
     "metadata": {},
     "output_type": "display_data"
    }
   ],
   "source": [
    "filename = f\"{symmetry_type}_{size}.png\"\n",
    "py5.save_frame(filename)\n",
    "display(Image(filename=filename))"
   ]
  },
  {
   "cell_type": "markdown",
   "id": "5942323d",
   "metadata": {
    "heading_collapsed": true
   },
   "source": [
    "### D2"
   ]
  },
  {
   "cell_type": "markdown",
   "id": "5e0e32ed",
   "metadata": {
    "hidden": true
   },
   "source": [
    "**2 x 2 Shapes**"
   ]
  },
  {
   "cell_type": "code",
   "execution_count": 11,
   "id": "5bfb7440",
   "metadata": {
    "hidden": true
   },
   "outputs": [
    {
     "name": "stdout",
     "output_type": "stream",
     "text": [
      "Failed to generate a unique pattern after 200 attempts.\n",
      "Failed to generate a unique pattern after 200 attempts.\n",
      "Failed to generate a unique pattern after 200 attempts.\n",
      "Failed to generate a unique pattern after 200 attempts.\n",
      "Failed to generate a unique pattern after 200 attempts.\n",
      "Failed to generate a unique pattern after 200 attempts.\n",
      "Failed to generate a unique pattern after 200 attempts.\n",
      "Failed to generate a unique pattern after 200 attempts.\n",
      "Failed to generate a unique pattern after 200 attempts.\n",
      "Failed to generate a unique pattern after 200 attempts.\n",
      "Failed to generate a unique pattern after 200 attempts.\n"
     ]
    }
   ],
   "source": [
    "size = 200\n",
    "symmetry_type = \"D2_1\"\n",
    "num_patterns = 16\n",
    "base_seed = 0\n",
    "pattern_index = 0\n",
    "\n",
    "def setup():\n",
    "    global cols, rows, tiles\n",
    "    py5.size(400, 400)\n",
    "    cols = py5.width // size\n",
    "    rows = py5.height // size\n",
    "    tiles = create_symmetric_pattern(symmetry_type)\n",
    "\n",
    "py5.run_sketch()"
   ]
  },
  {
   "cell_type": "code",
   "execution_count": null,
   "id": "f856f4b9",
   "metadata": {
    "hidden": true
   },
   "outputs": [],
   "source": [
    "filename = f\"{symmetry_type}_{size}.png\"\n",
    "py5.save_frame(filename)\n",
    "display(Image(filename=filename))"
   ]
  },
  {
   "cell_type": "markdown",
   "id": "464b93ba",
   "metadata": {
    "hidden": true
   },
   "source": [
    "**8 x 8 Shapes**"
   ]
  },
  {
   "cell_type": "code",
   "execution_count": 13,
   "id": "5bb0f476",
   "metadata": {
    "hidden": true
   },
   "outputs": [],
   "source": [
    "size = 50\n",
    "symmetry_type = \"D2_1\"\n",
    "num_patterns = 16\n",
    "base_seed = 0\n",
    "pattern_index = 0\n",
    "\n",
    "def setup():\n",
    "    global cols, rows, tiles\n",
    "    py5.size(400, 400)\n",
    "    cols = py5.width // size\n",
    "    rows = py5.height // size\n",
    "    tiles = create_symmetric_pattern(symmetry_type)\n",
    "\n",
    "py5.run_sketch()"
   ]
  },
  {
   "cell_type": "code",
   "execution_count": 14,
   "id": "6e031a5a",
   "metadata": {
    "hidden": true
   },
   "outputs": [
    {
     "data": {
      "image/png": "[encoded data removed]",
      "text/plain": [
       "<IPython.core.display.Image object>"
      ]
     },
     "metadata": {},
     "output_type": "display_data"
    }
   ],
   "source": [
    "filename = f\"{symmetry_type}_{size}.png\"\n",
    "py5.save_frame(filename)\n",
    "display(Image(filename=filename))"
   ]
  },
  {
   "cell_type": "code",
   "execution_count": null,
   "id": "e85cf2f9",
   "metadata": {
    "hidden": true
   },
   "outputs": [],
   "source": []
  }
 ],
 "metadata": {
  "kernelspec": {
   "display_name": "Python 3 (ipykernel)",
   "language": "python",
   "name": "python3"
  },
  "language_info": {
   "codemirror_mode": {
    "name": "ipython",
    "version": 3
   },
   "file_extension": ".py",
   "mimetype": "text/x-python",
   "name": "python",
   "nbconvert_exporter": "python",
   "pygments_lexer": "ipython3",
   "version": "3.11.7"
  },
  "toc": {
   "base_numbering": 1,
   "nav_menu": {},
   "number_sections": true,
   "sideBar": true,
   "skip_h1_title": false,
   "title_cell": "Table of Contents",
   "title_sidebar": "Contents",
   "toc_cell": false,
   "toc_position": {},
   "toc_section_display": true,
   "toc_window_display": false
  }
 },
 "nbformat": 4,
 "nbformat_minor": 5
}
